{
  "nbformat": 4,
  "nbformat_minor": 0,
  "metadata": {
    "colab": {
      "name": "ProyectoMC.ipynb",
      "provenance": [],
      "collapsed_sections": [],
      "toc_visible": true,
      "authorship_tag": "ABX9TyPg1qWSPgDrDWPlOyXvNMxX",
      "include_colab_link": true
    },
    "kernelspec": {
      "name": "python3",
      "display_name": "Python 3"
    }
  },
  "cells": [
    {
      "cell_type": "markdown",
      "metadata": {
        "id": "view-in-github",
        "colab_type": "text"
      },
      "source": [
        "<a href=\"https://colab.research.google.com/github/Redzoro1993/GPDistance/blob/master/ProyectoMC.ipynb\" target=\"_parent\"><img src=\"https://colab.research.google.com/assets/colab-badge.svg\" alt=\"Open In Colab\"/></a>"
      ]
    },
    {
      "cell_type": "markdown",
      "metadata": {
        "id": "ueqW8lnFK6zf",
        "colab_type": "text"
      },
      "source": [
        "# Punto 1\n"
      ]
    },
    {
      "cell_type": "code",
      "metadata": {
        "id": "lFjKXkFfGb9a",
        "colab_type": "code",
        "colab": {}
      },
      "source": [
        "import numpy as np\n",
        "x=100 #Precio del activo financiero\n",
        "ds= 0.25 #Cambio en el precio del activo financiero\n",
        "Estados = [\"-4 Ticks\", \"-3 Ticks\", \"-2 Ticks\",\"-1 Ticks\",\"0 Ticks\",\n",
        "           \"1 Ticks\",\"2 Ticks\",\"3 Ticks\",\"4 Ticks\"]\n",
        "S = np.array ([x-ds*4,x-ds*3,x-ds*2,x-ds*1,x+ds*0,x+ds*1,x+ds*2,x+ds*3,x+ds*4])\n",
        "N = 50 #Tiempos a simular\n",
        "SL = x-ds*2 #Stoploss\n",
        "TP = x+ds*3 #Takeprofit\n",
        "Pi = [[0.3,0.7,0,0,0,0,0,0,0],\n",
        "      [0.3,0,0.5,0.2,0,0,0,0,0],\n",
        "      [0,0.25,0,0.7,0.05,0,0,0,0],\n",
        "      [0,0.05,0.4,0,0.55,0,0,0,0],\n",
        "      [0,0,0,0.15,0,0.35,0.5,0,0],\n",
        "      [0,0,0,0.05,0.5,0,0.45,0,0],\n",
        "      [0,0,0,0,0,0.2,0,0.6,0.2],\n",
        "      [0,0,0,0,0,0.1,0.3,0,0.6],\n",
        "      [0,0,0,0,0,0,0.5,0.5,0]]\n",
        "Xn = [0]*N\n",
        "beta = np.array([0,0,0,0,1,0,0,0,0])\n",
        "Xn[0] = np.random.choice (S,p=beta)\n",
        "i=0\n",
        "ind = np.where(S == Xn[i])[0][0]\n",
        "Xn[i+1]=np.random.choice(S,p=Pi[ind])\n",
        "def RealizacionCadenaMarkov (S,Pi,N,beta):\n",
        "    Xn[0] = np.random.choice (S,p=beta)\n",
        "    for i in range (N-1):\n",
        "        ind = np.where(S==Xn[i]) [0] [0]\n",
        "        Xn[i+1] = np.random.choice(S,p=Pi[ind])\n",
        "    return Xn"
      ],
      "execution_count": 1,
      "outputs": []
    },
    {
      "cell_type": "markdown",
      "metadata": {
        "id": "qXri0ut1iNFg",
        "colab_type": "text"
      },
      "source": [
        "# Punto 2"
      ]
    },
    {
      "cell_type": "code",
      "metadata": {
        "id": "yJBs2sdUJfYX",
        "colab_type": "code",
        "colab": {
          "base_uri": "https://localhost:8080/",
          "height": 279
        },
        "outputId": "1145a023-df46-4fc1-9a51-0aed2347194d"
      },
      "source": [
        "import matplotlib.pyplot as plt\n",
        "M = 10\n",
        "for i in range (M):\n",
        "  Xn = RealizacionCadenaMarkov(S,Pi,N,beta)\n",
        "  plt.step(np.arange(0,N),Xn,where=\"mid\")\n",
        "plt.xlabel(\"Tiempo\")\n",
        "plt.ylabel(\"Precio\")\n",
        "plt.show()"
      ],
      "execution_count": 2,
      "outputs": [
        {
          "output_type": "display_data",
          "data": {
            "image/png": "[encoded data removed]",
            "text/plain": [
              "<Figure size 432x288 with 1 Axes>"
            ]
          },
          "metadata": {
            "tags": [],
            "needs_background": "light"
          }
        }
      ]
    },
    {
      "cell_type": "markdown",
      "metadata": {
        "id": "xAa2Qa81LNC3",
        "colab_type": "text"
      },
      "source": [
        "# Punto 3"
      ]
    },
    {
      "cell_type": "code",
      "metadata": {
        "id": "OskCdnQRLQn2",
        "colab_type": "code",
        "colab": {
          "base_uri": "https://localhost:8080/",
          "height": 279
        },
        "outputId": "f46df2f4-b6cb-4f33-c939-c11657b68243"
      },
      "source": [
        "import matplotlib.pyplot as plt\n",
        "M = 10\n",
        "for i in range(M):\n",
        "    Xn = RealizacionCadenaMarkov(S,Pi,N,beta)\n",
        "    Xn_2 = Xn * M\n",
        "    \n",
        "    PFSL = [i for i, e in enumerate(Xn,0)  if e == SL]\n",
        "    FSL= [i for i, e in enumerate(Xn,0)  if e == SL]\n",
        "    v_0 = np.zeros(len(PFSL))\n",
        "    FSL2 = [SL if x==0 else x for x in v_0]\n",
        "    plt.plot(PFSL,FSL2,\"ro\",alpha = 0.5)\n",
        "    \n",
        "    PFTP = [i for i, e in enumerate(Xn,0)  if e == TP]\n",
        "    FTP= [i for i, e in enumerate(Xn,0)  if e == TP]\n",
        "    v2_0 = np.zeros(len(PFTP))\n",
        "    FTP2 = [TP if x==0 else x for x in v2_0]\n",
        "    plt.plot(PFTP,FTP2,\"go\",alpha = 0.5)\n",
        "   \n",
        "    plt.step(np.arange(0,N),Xn)\n",
        "plt.axhline(y=SL, color='Black', linestyle='--',alpha=5,label=\"horizontal\")\n",
        "plt.axhline(y=TP, color='Darkgreen', linestyle='--',alpha=10)\n",
        "plt.xlabel(\"Tiempo\")\n",
        "plt.ylabel(\"Precio\")\n",
        "plt.show()"
      ],
      "execution_count": 3,
      "outputs": [
        {
          "output_type": "display_data",
          "data": {
            "image/png": "[encoded data removed]",
            "text/plain": [
              "<Figure size 432x288 with 1 Axes>"
            ]
          },
          "metadata": {
            "tags": [],
            "needs_background": "light"
          }
        }
      ]
    },
    {
      "cell_type": "code",
      "metadata": {
        "id": "3QIMgpJ-FpL3",
        "colab_type": "code",
        "colab": {}
      },
      "source": [
        "from collections import Counter\n"
      ],
      "execution_count": 4,
      "outputs": []
    },
    {
      "cell_type": "code",
      "metadata": {
        "id": "LGMXCRoMYFaJ",
        "colab_type": "code",
        "colab": {
          "base_uri": "https://localhost:8080/",
          "height": 34
        },
        "outputId": "6b70e88b-173d-44b2-f551-1dc73220549f"
      },
      "source": [
        "print(Counter(Xn_2),\"Total\",len(Xn_2))"
      ],
      "execution_count": 5,
      "outputs": [
        {
          "output_type": "stream",
          "text": [
            "Counter({100.5: 150, 100.75: 110, 101.0: 90, 100.0: 60, 100.25: 60, 99.75: 20, 99.5: 10}) Total 500\n"
          ],
          "name": "stdout"
        }
      ]
    },
    {
      "cell_type": "code",
      "metadata": {
        "id": "15utLjwMFsrQ",
        "colab_type": "code",
        "colab": {
          "base_uri": "https://localhost:8080/",
          "height": 34
        },
        "outputId": "3665790c-2ade-4307-a4f6-ec3af2fb5e61"
      },
      "source": [
        "NSL = Xn_2.count(SL)\n",
        "NTP = Xn_2.count(TP)\n",
        "print(\"El número de puntos que pasa por stoploss y takeprofit es:\", NSL,NTP)"
      ],
      "execution_count": 6,
      "outputs": [
        {
          "output_type": "stream",
          "text": [
            "El número de puntos que pasa por stoploss y takeprofit es: 10 110\n"
          ],
          "name": "stdout"
        }
      ]
    },
    {
      "cell_type": "markdown",
      "metadata": {
        "id": "2eSA8z_ZLfnH",
        "colab_type": "text"
      },
      "source": [
        "# Punto 4"
      ]
    },
    {
      "cell_type": "code",
      "metadata": {
        "id": "-u1RQDJ0UnH5",
        "colab_type": "code",
        "colab": {
          "base_uri": "https://localhost:8080/",
          "height": 345
        },
        "outputId": "34eb0abf-c41d-49b1-e94a-ec65aa7e46e9"
      },
      "source": [
        "import pandas as pd\n",
        "M = 100000\n",
        "Results = [0] * M\n",
        "for i in range (M):\n",
        "  Results[i] = RealizacionCadenaMarkov (S,Pi,N,beta ) [-1]\n",
        "beta1 = [0] * len (S)\n",
        "for i in range (len(S)):\n",
        "  beta1 [i] = float ((Results == S[i]).sum())/M\n",
        "print (beta1)\n",
        "d = {'Probabilidades' : pd.Series(beta1, index=Estados)}\n",
        "pd.DataFrame(d)"
      ],
      "execution_count": 7,
      "outputs": [
        {
          "output_type": "stream",
          "text": [
            "[0.00307, 0.00693, 0.01484, 0.02721, 0.06872, 0.10734, 0.276, 0.2764, 0.21949]\n"
          ],
          "name": "stdout"
        },
        {
          "output_type": "execute_result",
          "data": {
            "text/html": [
              "<div>\n",
              "<style scoped>\n",
              "    .dataframe tbody tr th:only-of-type {\n",
              "        vertical-align: middle;\n",
              "    }\n",
              "\n",
              "    .dataframe tbody tr th {\n",
              "        vertical-align: top;\n",
              "    }\n",
              "\n",
              "    .dataframe thead th {\n",
              "        text-align: right;\n",
              "    }\n",
              "</style>\n",
              "<table border=\"1\" class=\"dataframe\">\n",
              "  <thead>\n",
              "    <tr style=\"text-align: right;\">\n",
              "      <th></th>\n",
              "      <th>Probabilidades</th>\n",
              "    </tr>\n",
              "  </thead>\n",
              "  <tbody>\n",
              "    <tr>\n",
              "      <th>-4 Ticks</th>\n",
              "      <td>0.00307</td>\n",
              "    </tr>\n",
              "    <tr>\n",
              "      <th>-3 Ticks</th>\n",
              "      <td>0.00693</td>\n",
              "    </tr>\n",
              "    <tr>\n",
              "      <th>-2 Ticks</th>\n",
              "      <td>0.01484</td>\n",
              "    </tr>\n",
              "    <tr>\n",
              "      <th>-1 Ticks</th>\n",
              "      <td>0.02721</td>\n",
              "    </tr>\n",
              "    <tr>\n",
              "      <th>0 Ticks</th>\n",
              "      <td>0.06872</td>\n",
              "    </tr>\n",
              "    <tr>\n",
              "      <th>1 Ticks</th>\n",
              "      <td>0.10734</td>\n",
              "    </tr>\n",
              "    <tr>\n",
              "      <th>2 Ticks</th>\n",
              "      <td>0.27600</td>\n",
              "    </tr>\n",
              "    <tr>\n",
              "      <th>3 Ticks</th>\n",
              "      <td>0.27640</td>\n",
              "    </tr>\n",
              "    <tr>\n",
              "      <th>4 Ticks</th>\n",
              "      <td>0.21949</td>\n",
              "    </tr>\n",
              "  </tbody>\n",
              "</table>\n",
              "</div>"
            ],
            "text/plain": [
              "          Probabilidades\n",
              "-4 Ticks         0.00307\n",
              "-3 Ticks         0.00693\n",
              "-2 Ticks         0.01484\n",
              "-1 Ticks         0.02721\n",
              "0 Ticks          0.06872\n",
              "1 Ticks          0.10734\n",
              "2 Ticks          0.27600\n",
              "3 Ticks          0.27640\n",
              "4 Ticks          0.21949"
            ]
          },
          "metadata": {
            "tags": []
          },
          "execution_count": 7
        }
      ]
    },
    {
      "cell_type": "markdown",
      "metadata": {
        "id": "TSdZM9qPLl14",
        "colab_type": "text"
      },
      "source": [
        "# Punto 5"
      ]
    },
    {
      "cell_type": "code",
      "metadata": {
        "id": "qA_Vt6nKaAam",
        "colab_type": "code",
        "colab": {}
      },
      "source": [
        "%load_ext rpy2.ipython"
      ],
      "execution_count": null,
      "outputs": []
    },
    {
      "cell_type": "code",
      "metadata": {
        "id": "ShNN45fda3h9",
        "colab_type": "code",
        "colab": {}
      },
      "source": [
        "%%R\n",
        "install.packages('markovchain')"
      ],
      "execution_count": null,
      "outputs": []
    },
    {
      "cell_type": "code",
      "metadata": {
        "id": "naERk8OObc3_",
        "colab_type": "code",
        "colab": {}
      },
      "source": [
        "%%R\n",
        "library(markovchain)"
      ],
      "execution_count": null,
      "outputs": []
    },
    {
      "cell_type": "code",
      "metadata": {
        "id": "GMal-gwbcrBS",
        "colab_type": "code",
        "colab": {}
      },
      "source": [
        "%%R\n",
        "Pi = matrix(c(0.3,0.7,0,0,0,0,0,0,0,\n",
        "      0.3,0,0.5,0.2,0,0,0,0,0,\n",
        "      0,0.25,0,0.7,0.05,0,0,0,0,\n",
        "      0,0.05,0.4,0,0.55,0,0,0,0,\n",
        "      0,0,0,0.15,0,0.35,0.5,0,0,\n",
        "      0,0,0,0.05,0.5,0,0.45,0,0,\n",
        "      0,0,0,0,0,0.2,0,0.6,0.2,\n",
        "      0,0,0,0,0,0.1,0.3,0,0.6,\n",
        "      0,0,0,0,0,0,0.5,0.5,0),nrow = 9,byrow = TRUE)\n",
        "estados=c(\"-4 Ticks\", \"-3 Ticks\", \"-2 Ticks\",\"-1 Ticks\",\"0 Ticks\",\n",
        "           \"1 Ticks\",\"2 Ticks\",\"3 Ticks\",\"4 Ticks\")\n",
        "mc = new(\"markovchain\",transitionMatrix=Pi,states=estados,name=\"Cadena 1\")\n",
        "MFPT_TP= meanFirstPassageTime(mc,\"3 Ticks\")\n",
        "MFPT_SL= meanFirstPassageTime(mc,\"-2 Ticks\")"
      ],
      "execution_count": 15,
      "outputs": []
    },
    {
      "cell_type": "code",
      "metadata": {
        "id": "_7QUheD21YBd",
        "colab_type": "code",
        "colab": {
          "base_uri": "https://localhost:8080/",
          "height": 297
        },
        "outputId": "702a43fd-9e92-485a-caef-cf09933d0ea6"
      },
      "source": [
        "%R -o MFPT_SL -o MFPT_TP \n",
        "MFPT2 = MFPT_SL.astype(int)\n",
        "MFPT3 = MFPT_TP.astype(int)\n",
        "TP = {'Tiempo Esperado' : pd.Series(MFPT3, index=[\"-4 Ticks\",\"-3 Ticks\",\"-2 Ticks\",\"-1 Ticks\",\"0 Ticks\",\"1 Ticks\",\"2 Ticks\",\"4 Ticks\"])}\n",
        "pd.DataFrame(TP)"
      ],
      "execution_count": 17,
      "outputs": [
        {
          "output_type": "execute_result",
          "data": {
            "text/html": [
              "<div>\n",
              "<style scoped>\n",
              "    .dataframe tbody tr th:only-of-type {\n",
              "        vertical-align: middle;\n",
              "    }\n",
              "\n",
              "    .dataframe tbody tr th {\n",
              "        vertical-align: top;\n",
              "    }\n",
              "\n",
              "    .dataframe thead th {\n",
              "        text-align: right;\n",
              "    }\n",
              "</style>\n",
              "<table border=\"1\" class=\"dataframe\">\n",
              "  <thead>\n",
              "    <tr style=\"text-align: right;\">\n",
              "      <th></th>\n",
              "      <th>Tiempo Esperado</th>\n",
              "    </tr>\n",
              "  </thead>\n",
              "  <tbody>\n",
              "    <tr>\n",
              "      <th>-4 Ticks</th>\n",
              "      <td>13</td>\n",
              "    </tr>\n",
              "    <tr>\n",
              "      <th>-3 Ticks</th>\n",
              "      <td>11</td>\n",
              "    </tr>\n",
              "    <tr>\n",
              "      <th>-2 Ticks</th>\n",
              "      <td>10</td>\n",
              "    </tr>\n",
              "    <tr>\n",
              "      <th>-1 Ticks</th>\n",
              "      <td>8</td>\n",
              "    </tr>\n",
              "    <tr>\n",
              "      <th>0 Ticks</th>\n",
              "      <td>5</td>\n",
              "    </tr>\n",
              "    <tr>\n",
              "      <th>1 Ticks</th>\n",
              "      <td>5</td>\n",
              "    </tr>\n",
              "    <tr>\n",
              "      <th>2 Ticks</th>\n",
              "      <td>2</td>\n",
              "    </tr>\n",
              "    <tr>\n",
              "      <th>4 Ticks</th>\n",
              "      <td>2</td>\n",
              "    </tr>\n",
              "  </tbody>\n",
              "</table>\n",
              "</div>"
            ],
            "text/plain": [
              "          Tiempo Esperado\n",
              "-4 Ticks               13\n",
              "-3 Ticks               11\n",
              "-2 Ticks               10\n",
              "-1 Ticks                8\n",
              "0 Ticks                 5\n",
              "1 Ticks                 5\n",
              "2 Ticks                 2\n",
              "4 Ticks                 2"
            ]
          },
          "metadata": {
            "tags": []
          },
          "execution_count": 17
        }
      ]
    },
    {
      "cell_type": "code",
      "metadata": {
        "id": "2cKDPZBR8YM1",
        "colab_type": "code",
        "colab": {
          "base_uri": "https://localhost:8080/",
          "height": 297
        },
        "outputId": "b602e41f-aa7f-4ebd-cf7e-aa65db19343d"
      },
      "source": [
        "SL = {'Tiempo Esperado' : pd.Series(MFPT2, index=[\"-4 Ticks\",\"-3 Ticks\",\"-1 Ticks\",\"0 Ticks\",\"1 Ticks\",\"2 Ticks\",\"3 Ticks\",\"4 Ticks\"])}\n",
        "pd.DataFrame(SL)"
      ],
      "execution_count": 18,
      "outputs": [
        {
          "output_type": "execute_result",
          "data": {
            "text/html": [
              "<div>\n",
              "<style scoped>\n",
              "    .dataframe tbody tr th:only-of-type {\n",
              "        vertical-align: middle;\n",
              "    }\n",
              "\n",
              "    .dataframe tbody tr th {\n",
              "        vertical-align: top;\n",
              "    }\n",
              "\n",
              "    .dataframe thead th {\n",
              "        text-align: right;\n",
              "    }\n",
              "</style>\n",
              "<table border=\"1\" class=\"dataframe\">\n",
              "  <thead>\n",
              "    <tr style=\"text-align: right;\">\n",
              "      <th></th>\n",
              "      <th>Tiempo Esperado</th>\n",
              "    </tr>\n",
              "  </thead>\n",
              "  <tbody>\n",
              "    <tr>\n",
              "      <th>-4 Ticks</th>\n",
              "      <td>25</td>\n",
              "    </tr>\n",
              "    <tr>\n",
              "      <th>-3 Ticks</th>\n",
              "      <td>24</td>\n",
              "    </tr>\n",
              "    <tr>\n",
              "      <th>-1 Ticks</th>\n",
              "      <td>78</td>\n",
              "    </tr>\n",
              "    <tr>\n",
              "      <th>0 Ticks</th>\n",
              "      <td>138</td>\n",
              "    </tr>\n",
              "    <tr>\n",
              "      <th>1 Ticks</th>\n",
              "      <td>142</td>\n",
              "    </tr>\n",
              "    <tr>\n",
              "      <th>2 Ticks</th>\n",
              "      <td>152</td>\n",
              "    </tr>\n",
              "    <tr>\n",
              "      <th>3 Ticks</th>\n",
              "      <td>153</td>\n",
              "    </tr>\n",
              "    <tr>\n",
              "      <th>4 Ticks</th>\n",
              "      <td>153</td>\n",
              "    </tr>\n",
              "  </tbody>\n",
              "</table>\n",
              "</div>"
            ],
            "text/plain": [
              "          Tiempo Esperado\n",
              "-4 Ticks               25\n",
              "-3 Ticks               24\n",
              "-1 Ticks               78\n",
              "0 Ticks               138\n",
              "1 Ticks               142\n",
              "2 Ticks               152\n",
              "3 Ticks               153\n",
              "4 Ticks               153"
            ]
          },
          "metadata": {
            "tags": []
          },
          "execution_count": 18
        }
      ]
    }
  ]
}