{
  "nbformat": 4,
  "nbformat_minor": 0,
  "metadata": {
    "colab": {
      "name": "TAREA Punto 3 APT",
      "provenance": [],
      "authorship_tag": "ABX9TyNR/hS/9S+vgLAzdyCbgfwe",
      "include_colab_link": true
    },
    "kernelspec": {
      "name": "python3",
      "display_name": "Python 3"
    }
  },
  "cells": [
    {
      "cell_type": "markdown",
      "metadata": {
        "id": "view-in-github",
        "colab_type": "text"
      },
      "source": [
        "<a href=\"https://colab.research.google.com/github/Redzoro1993/GPDistance/blob/master/TAREA_Punto_3_APT.ipynb\" target=\"_parent\"><img src=\"https://colab.research.google.com/assets/colab-badge.svg\" alt=\"Open In Colab\"/></a>"
      ]
    },
    {
      "cell_type": "markdown",
      "metadata": {
        "id": "QotBF1JhJ60i"
      },
      "source": [
        "**APT homework**\n",
        "\n",
        "Tenemos la siguiente formula según el modelo APT\n",
        "\n",
        "$E(r) = R_i + \\beta_{i1}F_1 + \\beta_{i2} F_2 $ \n",
        "\n",
        "Con la información proporcionada tenemos las siguientes ecuaciones: \n",
        "\n",
        "$15\\% = R_i + 1F_1 + 0.6F_2$\n",
        "\n",
        "$14\\% = R_i + 0.5F_1 + 1F_2$\n",
        "\n",
        "$10\\% = R_i + 0.3F_1 + 0.2F_2$\n",
        "\n",
        "Resolviendo este sistema de tres ecuaciones encontramos los siguientes valores $R_i = 0.0775$, $F_1 = 0.05$, $F_2 = 0.0375$\n",
        "\n",
        "Sustituyendo estos valores en la formula del modelo APT tenemos:\n",
        "\n",
        "$E(r) = 0.0775 + 0.05\\beta_{i1} + 0.0375\\beta_{i2} $ \n",
        "\n",
        "Esta ecuación de la recta se puede usar para representa el precio de cualquier portafolio en la economía \n",
        "\n",
        "Remplanzando los betas del portafolio ${\\textit{D}}$ en la ecuación \n",
        "\n",
        "$\\beta_{d1} = \\beta_{d2} = 0.6 $ \n",
        "\n",
        "$E(r) = 0.0775 + 0.05(0.6) + 0.0375(0.6) = 13\\%$. Sin embargo, el retorno esperado para el portafolio $D$ es del $15\\%$\n",
        "\n",
        "Ahora debemos crear una combinación de los portafolios  $A$, $B$ y $C$ tal que esta nueva cartera $E$, tenga los mismos betas que $D$. Por lo que planteamos el siguiente sistema de ecuaciones: \n",
        "\n",
        "$0.6 = (1)W_a + (0.6)W_b +(0.3)W_c$\n",
        "\n",
        "$0.6 = (0.6)W_a + (1)W_b +(0.2)W_c$\n",
        "\n",
        "$1 = W_a + W_b + W_c$\n",
        "\n",
        "Resolviendo este sistema de tres ecuaciones encontramos los siguientes valores $W_a= 0.0333$, $W_b= 0.0333$, $W_c= 0.0333$\n",
        "\n",
        "Esta cartera tendría los mismos betas que $D$, pero tendría un rendimiento esperado:  $\\frac{15\\%+14\\%+10\\%} {3} = 13\\%$.\n",
        "\n",
        "Ahora suponemos que invertimos \"un peso\" en la cartera $D$ y vendemos (short) \"un peso\" en la cartera $E$. la inversión neta es cero, pero el beneficio esperado es positivo e igual a:\n",
        "\n",
        "$ 1COP \\cdot E(r_D) -1COP \\cdot E(r_E)$ = $ 1COP \\cdot 0.15 -1COP \\cdot 0.13 = 0.02COP$\n",
        "\n",
        "Se observa que creamos una estrategia de inversión con una posición neta que no presenta riesgos. Ya que la exposición a cada factor de riesgo se cancela porque tiene “un peso” en largo en la cartera $D$ y en corto “Un peso” en la cartera $E$, y ambos portafolios están bien diversificados y tienen exactamente los mismos factores beta. Por tanto, si el portafolio $D$ tiene un rendimiento esperado que difiere del portafolio $E$ se puede obtener beneficios positivos sin riesgo en una posición de inversión neta cero. Lo que esta es una oportunidad de arbitraje.\n"
      ]
    },
    {
      "cell_type": "code",
      "metadata": {
        "id": "RXIskw-KJ3uP",
        "outputId": "ae229bb7-a409-4c38-df8e-983a59ee7ad8",
        "colab": {
          "base_uri": "https://localhost:8080/",
          "height": 34
        }
      },
      "source": [
        "Er = (0.0775+ 0.05*0.6+0.0375*0.6)*100\n",
        "Er"
      ],
      "execution_count": 3,
      "outputs": [
        {
          "output_type": "execute_result",
          "data": {
            "text/plain": [
              "13.0"
            ]
          },
          "metadata": {
            "tags": []
          },
          "execution_count": 3
        }
      ]
    },
    {
      "cell_type": "markdown",
      "metadata": {
        "id": "eF2svz07J6re"
      },
      "source": [
        ""
      ]
    }
  ]
}